{
 "cells": [
  {
   "cell_type": "markdown",
   "metadata": {},
   "source": [
    "# Baker map\n",
    "\n",
    "The Baker map descripes the behavior of particles in side dough that is being folded over and over.\n",
    "The dissipative Baker map is given as\n",
    "\n",
    "\\begin{aligned}\n",
    "x_{n + 1} &= f(x_n, y_n) \\\\\n",
    "y_{n + 1} &= g(x_n, y_n, \\alpha) \\\\\n",
    "\\end{aligned}\n",
    "\n",
    "with:\n",
    "\n",
    "\n",
    "%%latex\n",
    "\\begin{aligned}\n",
    "f_{n} &=  2 * x_n  \\\\\n",
    "        g_{n}(x_0, y_0) &=\n",
    "        \\begin{cases}\n",
    "                  &= \\alpha * y_n \\text{if } x_n \\leq \\frac{1}{2} \\\\\n",
    "                  &=\\frac{1}{2} + \\alpha y_n \\text{if } x_n > \\frac{1}{2} \\\\\n",
    "        \\end{cases}\n",
    "\\end{aligned}\n"
   ]
  },
  {
   "cell_type": "code",
   "execution_count": 72,
   "metadata": {},
   "outputs": [
    {
     "name": "stdout",
     "output_type": "stream",
     "text": [
      "(10, 2)\n"
     ]
    },
    {
     "name": "stderr",
     "output_type": "stream",
     "text": [
      "/home/casper/miniconda3/lib/python3.7/site-packages/ipykernel_launcher.py:8: RuntimeWarning: overflow encountered in multiply\n",
      "  \n"
     ]
    },
    {
     "data": {
      "image/png": "[encoded data removed]",
      "text/plain": [
       "<Figure size 432x288 with 1 Axes>"
      ]
     },
     "metadata": {
      "needs_background": "light"
     },
     "output_type": "display_data"
    }
   ],
   "source": [
    "import numpy as np, matplotlib.pyplot as plt\n",
    "\n",
    "\n",
    "def update(x, a):\n",
    "    \"\"\"\n",
    "    Baker map update; x is a vector consisting of n x 2 points\n",
    "    \"\"\"\n",
    "    x[:, 1] *=  a\n",
    "    idx = np.where(x[:, 0] > .5)[0]\n",
    "    x[idx, 1] += .5\n",
    "    \n",
    "    x[:, 0] *= 2 # 1.9999999\n",
    "    idx = np.where(x[:, 0] > 1.0)[0]\n",
    "    while len(idx) > 0:\n",
    "        x[idx, 0] -= 1\n",
    "        idx        = np.where(x[:, 0] > 1)[0]\n",
    "    return x\n",
    "\n",
    "sim_steps = 5000\n",
    "n         = 10\n",
    "res    = np.zeros((sim_steps, n, 2) , dtype = float)\n",
    "\n",
    "print(res[0].shape)\n",
    "res[0] = np.random.rand(n, 2) # * np.array([0.1, .3])\n",
    "a      = .1\n",
    "for step in range(1, sim_steps):\n",
    "    res[step] = update(res[step - 1], a)\n",
    "\n",
    "fig, ax = plt.subplots()\n",
    "ax.scatter(*res.T)\n",
    "fig.show()\n",
    "    "
   ]
  },
  {
   "cell_type": "code",
   "execution_count": 45,
   "metadata": {},
   "outputs": [
    {
     "name": "stdout",
     "output_type": "stream",
     "text": [
      "[]\n",
      "[]\n"
     ]
    }
   ],
   "source": [
    "print(res[0, [] , 1])\n",
    "\n",
    "res[0, [], 1] += .5\n",
    "print(res[0, [] , 1])"
   ]
  }
 ],
 "metadata": {
  "kernelspec": {
   "display_name": "Python 3",
   "language": "python",
   "name": "python3"
  },
  "language_info": {
   "codemirror_mode": {
    "name": "ipython",
    "version": 3
   },
   "file_extension": ".py",
   "mimetype": "text/x-python",
   "name": "python",
   "nbconvert_exporter": "python",
   "pygments_lexer": "ipython3",
   "version": "3.7.1"
  },
  "latex_envs": {
   "LaTeX_envs_menu_present": false,
   "autoclose": false,
   "autocomplete": false,
   "bibliofile": "library.bib",
   "cite_by": "apalike",
   "current_citInitial": 1,
   "eqLabelWithNumbers": false,
   "eqNumInitial": 1,
   "hotkeys": {
    "equation": "Ctrl-E",
    "itemize": "Ctrl-I"
   },
   "labels_anchors": false,
   "latex_user_defs": false,
   "report_style_numbering": false,
   "user_envs_cfg": false
  }
 },
 "nbformat": 4,
 "nbformat_minor": 2
}
